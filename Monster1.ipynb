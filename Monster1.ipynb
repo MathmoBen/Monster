{
  "nbformat": 4,
  "nbformat_minor": 0,
  "metadata": {
    "colab": {
      "provenance": [],
      "authorship_tag": "ABX9TyMQUUEG+aeyLZeSZ3VwsZ9K",
      "include_colab_link": true
    },
    "kernelspec": {
      "name": "python3",
      "display_name": "Python 3"
    },
    "language_info": {
      "name": "python"
    }
  },
  "cells": [
    {
      "cell_type": "markdown",
      "metadata": {
        "id": "view-in-github",
        "colab_type": "text"
      },
      "source": [
        "<a href=\"https://colab.research.google.com/github/MathmoBen/Monster/blob/main/Monster1.ipynb\" target=\"_parent\"><img src=\"https://colab.research.google.com/assets/colab-badge.svg\" alt=\"Open In Colab\"/></a>"
      ]
    },
    {
      "cell_type": "code",
      "execution_count": 3,
      "metadata": {
        "colab": {
          "base_uri": "https://localhost:8080/"
        },
        "id": "djfa1-geE0VJ",
        "outputId": "95706ec1-1310-4ea5-b9e3-0f930b7f375a"
      },
      "outputs": [
        {
          "output_type": "stream",
          "name": "stdout",
          "text": [
            "Collecting mmgroup\n",
            "  Downloading mmgroup-1.0.0-cp310-cp310-manylinux_2_17_x86_64.manylinux2014_x86_64.whl (9.7 MB)\n",
            "\u001b[2K     \u001b[90m━━━━━━━━━━━━━━━━━━━━━━━━━━━━━━━━━━━━━━━━\u001b[0m \u001b[32m9.7/9.7 MB\u001b[0m \u001b[31m18.8 MB/s\u001b[0m eta \u001b[36m0:00:00\u001b[0m\n",
            "\u001b[?25hRequirement already satisfied: numpy in /usr/local/lib/python3.10/dist-packages (from mmgroup) (1.23.5)\n",
            "Requirement already satisfied: regex in /usr/local/lib/python3.10/dist-packages (from mmgroup) (2023.12.25)\n",
            "Installing collected packages: mmgroup\n",
            "Successfully installed mmgroup-1.0.0\n",
            "Requirement already satisfied: pytest in /usr/local/lib/python3.10/dist-packages (7.4.4)\n",
            "Requirement already satisfied: iniconfig in /usr/local/lib/python3.10/dist-packages (from pytest) (2.0.0)\n",
            "Requirement already satisfied: packaging in /usr/local/lib/python3.10/dist-packages (from pytest) (23.2)\n",
            "Requirement already satisfied: pluggy<2.0,>=0.12 in /usr/local/lib/python3.10/dist-packages (from pytest) (1.4.0)\n",
            "Requirement already satisfied: exceptiongroup>=1.0.0rc8 in /usr/local/lib/python3.10/dist-packages (from pytest) (1.2.0)\n",
            "Requirement already satisfied: tomli>=1.0.0 in /usr/local/lib/python3.10/dist-packages (from pytest) (2.0.1)\n",
            "\u001b[1m======================================= test session starts ========================================\u001b[0m\n",
            "platform linux -- Python 3.10.12, pytest-7.4.4, pluggy-1.4.0\n",
            "rootdir: /content\n",
            "plugins: anyio-3.7.1\n",
            "collected 231 items / 22 deselected / 209 selected                                                 \u001b[0m\n",
            "\n",
            "tests/test_autogroup/test_autogroup.py \u001b[32m.\u001b[0m\u001b[32m                                                     [  0%]\u001b[0m\n",
            "tests/test_autogroup/test_group_n.py \u001b[32m.\u001b[0m\u001b[32m.\u001b[0m\u001b[32m.\u001b[0m\u001b[32m                                                     [  1%]\u001b[0m\n",
            "tests/test_autogroup/test_mgroup_n.py \u001b[32m.\u001b[0m\u001b[32m                                                      [  2%]\u001b[0m\n",
            "tests/test_autogroup/test_mm_group.py \u001b[32m.\u001b[0m\u001b[32m.\u001b[0m\u001b[32m                                                     [  3%]\u001b[0m\n",
            "tests/test_axes/test_2A_axes.py \u001b[32m.\u001b[0m\u001b[32m                                                            [  3%]\u001b[0m\n",
            "tests/test_axes/test_axis_cases.py \u001b[32m.\u001b[0m\u001b[32m                                                         [  4%]\u001b[0m\n",
            "tests/test_axes/test_axis_names.py \u001b[32m.\u001b[0m\u001b[32m                                                         [  4%]\u001b[0m\n",
            "tests/test_axes/test_baby_axis_cases.py \u001b[32m.\u001b[0m\u001b[32m                                                    [  5%]\u001b[0m\n",
            "tests/test_axes/test_eval_A.py \u001b[32m.\u001b[0m\u001b[32m.\u001b[0m\u001b[32m                                                            [  6%]\u001b[0m\n",
            "tests/test_axes/test_find_short15.py \u001b[32m.\u001b[0m\u001b[32m                                                       [  6%]\u001b[0m\n",
            "tests/test_axes/test_find_type4.py \u001b[32m.\u001b[0m\u001b[32m                                                         [  7%]\u001b[0m\n",
            "tests/test_axes/test_reduce_axis.py \u001b[32m.\u001b[0m\u001b[32m.\u001b[0m\u001b[32m.\u001b[0m\u001b[32m                                                      [  8%]\u001b[0m\n",
            "tests/test_bimm/test_bimm.py \u001b[32m.\u001b[0m\u001b[32m                                                               [  9%]\u001b[0m\n",
            "tests/test_bimm/test_inc_p3.py \u001b[32m.\u001b[0m\u001b[32m                                                             [  9%]\u001b[0m\n",
            "tests/test_bimm/test_p3_to_mm.py \u001b[32m.\u001b[0m\u001b[32m                                                           [ 10%]\u001b[0m\n",
            "tests/test_clifford/test_bitmatrix.py \u001b[32m.\u001b[0m\u001b[32m.\u001b[0m\u001b[32m.\u001b[0m\u001b[32m.\u001b[0m\u001b[32m.\u001b[0m\u001b[32m                                                  [ 12%]\u001b[0m\n",
            "tests/test_clifford/test_g_x0_to_word.py \u001b[32m.\u001b[0m\u001b[32m.\u001b[0m\u001b[32m.\u001b[0m\u001b[32m.\u001b[0m\u001b[32m                                                [ 14%]\u001b[0m\n",
            "tests/test_clifford/test_leech2basis.py \u001b[32m.\u001b[0m\u001b[32m.\u001b[0m\u001b[32m.\u001b[0m\u001b[32m                                                  [ 15%]\u001b[0m\n",
            "tests/test_clifford/test_leech3matrix.py \u001b[32m.\u001b[0m\u001b[32m.\u001b[0m\u001b[32m.\u001b[0m\u001b[32m.\u001b[0m\u001b[32m                                                [ 17%]\u001b[0m\n",
            "tests/test_clifford/test_qs_bitmap.py \u001b[32m.\u001b[0m\u001b[32m.\u001b[0m\u001b[32m                                                     [ 18%]\u001b[0m\n",
            "tests/test_clifford/test_qs_conjugate.py \u001b[32m.\u001b[0m\u001b[32m.\u001b[0m\u001b[32m.\u001b[0m\u001b[32m.\u001b[0m\u001b[32m                                                [ 20%]\u001b[0m\n",
            "tests/test_clifford/test_qs_extend.py \u001b[32m.\u001b[0m\u001b[32m.\u001b[0m\u001b[32m.\u001b[0m\u001b[32m.\u001b[0m\u001b[32m                                                   [ 22%]\u001b[0m\n",
            "tests/test_clifford/test_qs_gates.py \u001b[32m.\u001b[0m\u001b[32m.\u001b[0m\u001b[32m.\u001b[0m\u001b[32m.\u001b[0m\u001b[32m.\u001b[0m\u001b[32m                                                   [ 24%]\u001b[0m\n",
            "tests/test_clifford/test_qs_matrix.py \u001b[32m.\u001b[0m\u001b[32m.\u001b[0m\u001b[32m.\u001b[0m\u001b[32m.\u001b[0m\u001b[32m                                                   [ 26%]\u001b[0m\n",
            "tests/test_clifford/test_qs_product.py \u001b[32m.\u001b[0m\u001b[32m.\u001b[0m\u001b[32m.\u001b[0m\u001b[32m.\u001b[0m\u001b[32m.\u001b[0m\u001b[32m.\u001b[0m\u001b[32m                                                [ 29%]\u001b[0m\n",
            "tests/test_clifford/test_qs_reduce_matrix.py \u001b[32m.\u001b[0m\u001b[32m                                               [ 30%]\u001b[0m\n",
            "tests/test_clifford/test_sort.py \u001b[32m.\u001b[0m\u001b[32m                                                           [ 30%]\u001b[0m\n",
            "tests/test_clifford/test_xsp2.py \u001b[32m.\u001b[0m\u001b[32m.\u001b[0m\u001b[32m.\u001b[0m\u001b[32m.\u001b[0m\u001b[32m.\u001b[0m\u001b[32m.\u001b[0m\u001b[32m.\u001b[0m\u001b[32m                                                     [ 33%]\u001b[0m\n",
            "tests/test_clifford/test_xsp2_conjugate.py \u001b[32m.\u001b[0m\u001b[32m.\u001b[0m\u001b[32m.\u001b[0m\u001b[32m                                               [ 35%]\u001b[0m\n",
            "tests/test_clifford/test_xsp2_map.py \u001b[32m.\u001b[0m\u001b[32m.\u001b[0m\u001b[32m                                                      [ 36%]\u001b[0m\n",
            "tests/test_clifford/test_xsp2_vector.py \u001b[32m.\u001b[0m\u001b[32m.\u001b[0m\u001b[32m.\u001b[0m\u001b[32m                                                  [ 37%]\u001b[0m\n",
            "tests/test_demo/test_demo_reduce_axis.py \u001b[32m.\u001b[0m\u001b[32m.\u001b[0m\u001b[32m                                                  [ 38%]\u001b[0m\n",
            "tests/test_demo/test_demo_reduce_monster.py \u001b[32m.\u001b[0m\u001b[32m                                                [ 39%]\u001b[0m\n",
            "tests/test_gen_xi/test_gen_leech.py \u001b[32m.\u001b[0m\u001b[32m                                                        [ 39%]\u001b[0m\n",
            "tests/test_gen_xi/test_gen_subframe.py \u001b[32m.\u001b[0m\u001b[32m                                                     [ 40%]\u001b[0m\n",
            "tests/test_gen_xi/test_gen_type2.py \u001b[32m.\u001b[0m\u001b[32m                                                        [ 40%]\u001b[0m\n",
            "tests/test_gen_xi/test_gen_type22.py \u001b[32m.\u001b[0m\u001b[32m.\u001b[0m\u001b[32m                                                      [ 41%]\u001b[0m\n",
            "tests/test_gen_xi/test_gen_type3.py \u001b[32m.\u001b[0m\u001b[32m                                                        [ 42%]\u001b[0m\n",
            "tests/test_gen_xi/test_gen_type4.py \u001b[32m.\u001b[0m\u001b[32m.\u001b[0m\u001b[32m                                                       [ 43%]\u001b[0m\n",
            "tests/test_gen_xi/test_gen_ufind.py \u001b[32m.\u001b[0m\u001b[32m.\u001b[0m\u001b[32m                                                       [ 44%]\u001b[0m\n",
            "tests/test_gen_xi/test_gen_xi.py \u001b[32m.\u001b[0m\u001b[32m.\u001b[0m\u001b[32m.\u001b[0m\u001b[32m.\u001b[0m\u001b[32m.\u001b[0m\u001b[32m                                                       [ 46%]\u001b[0m\n",
            "tests/test_gen_xi/test_leech2_type.py \u001b[32m.\u001b[0m\u001b[32m.\u001b[0m\u001b[32m.\u001b[0m\u001b[32m                                                    [ 47%]\u001b[0m\n",
            "tests/test_gen_xi/test_reduce.py \u001b[32m.\u001b[0m\u001b[32m.\u001b[0m\u001b[32m.\u001b[0m\u001b[32m.\u001b[0m\u001b[32m                                                        [ 49%]\u001b[0m\n",
            "tests/test_gen_xi/test_reduce_n.py \u001b[32m.\u001b[0m\u001b[32m.\u001b[0m\u001b[32m                                                        [ 50%]\u001b[0m\n",
            "tests/test_gen_xi/test_start_reduce.py \u001b[32m.\u001b[0m\u001b[32m.\u001b[0m\u001b[32m                                                    [ 51%]\u001b[0m\n",
            "tests/test_involutions/test_2B_involution.py \u001b[32m.\u001b[0m\u001b[32m.\u001b[0m\u001b[32m                                              [ 52%]\u001b[0m\n",
            "tests/test_involutions/test_display_characters.py \u001b[32m.\u001b[0m\u001b[32m                                          [ 53%]\u001b[0m\n",
            "tests/test_involutions/test_involution_Gx0.py \u001b[32m.\u001b[0m\u001b[32m                                              [ 53%]\u001b[0m\n",
            "tests/test_involutions/test_involution_invariants.py \u001b[32m.\u001b[0m\u001b[32m                                       [ 54%]\u001b[0m\n",
            "tests/test_involutions/test_xsp2_trace.py \u001b[32m.\u001b[0m\u001b[32m.\u001b[0m\u001b[32m.\u001b[0m\u001b[32m                                                [ 55%]\u001b[0m\n",
            "tests/test_mat24/test_addition_table.py \u001b[32m.\u001b[0m\u001b[32m                                                    [ 55%]\u001b[0m\n",
            "tests/test_mat24/test_benes_network.py \u001b[32m.\u001b[0m\u001b[32m.\u001b[0m\u001b[32m                                                    [ 56%]\u001b[0m\n",
            "tests/test_mat24/test_bitfunctions.py \u001b[32m.\u001b[0m\u001b[32m.\u001b[0m\u001b[32m.\u001b[0m\u001b[32m                                                    [ 58%]\u001b[0m\n",
            "tests/test_mat24/test_gcode.py \u001b[32m.\u001b[0m\u001b[32m.\u001b[0m\u001b[32m.\u001b[0m\u001b[32m.\u001b[0m\u001b[32m.\u001b[0m\u001b[32m.\u001b[0m\u001b[32m.\u001b[0m\u001b[32m.\u001b[0m\u001b[32m.\u001b[0m\u001b[32m.\u001b[0m\u001b[32m.\u001b[0m\u001b[32m.\u001b[0m\u001b[32m                                                  [ 64%]\u001b[0m\n",
            "tests/test_mat24/test_heptad.py \u001b[32m.\u001b[0m\u001b[32m.\u001b[0m\u001b[32m.\u001b[0m\u001b[32m.\u001b[0m\u001b[32m                                                         [ 66%]\u001b[0m\n",
            "tests/test_mat24/test_mat24.py \u001b[32m.\u001b[0m\u001b[32m.\u001b[0m\u001b[32m.\u001b[0m\u001b[32m                                                           [ 67%]\u001b[0m\n",
            "tests/test_mat24/test_mat24_lex.py \u001b[32m.\u001b[0m\u001b[32m                                                         [ 67%]\u001b[0m\n",
            "tests/test_mat24/test_mat24_rand.py \u001b[32m.\u001b[0m\u001b[32m                                                        [ 68%]\u001b[0m\n",
            "tests/test_mat24/test_mm_aux.py \u001b[32m.\u001b[0m\u001b[32m.\u001b[0m\u001b[32m                                                           [ 69%]\u001b[0m\n",
            "tests/test_mat24/test_ploop.py \u001b[32m.\u001b[0m\u001b[32m.\u001b[0m\u001b[32m.\u001b[0m\u001b[32m.\u001b[0m\u001b[32m.\u001b[0m\u001b[32m.\u001b[0m\u001b[32m                                                        [ 72%]\u001b[0m\n",
            "tests/test_mat24/test_subdodecad.py \u001b[32m.\u001b[0m\u001b[32m                                                        [ 72%]\u001b[0m\n",
            "tests/test_mm_op/test_group_op.py \u001b[32m.\u001b[0m\u001b[32m.\u001b[0m\u001b[32m.\u001b[0m\u001b[32m                                                        [ 74%]\u001b[0m\n",
            "tests/test_mm_op/test_io.py \u001b[32m.\u001b[0m\u001b[32m.\u001b[0m\u001b[32m.\u001b[0m\u001b[32m                                                              [ 75%]\u001b[0m\n",
            "tests/test_mm_op/test_low_group_op.py \u001b[32m.\u001b[0m\u001b[32m.\u001b[0m\u001b[32m.\u001b[0m\u001b[32m.\u001b[0m\u001b[32m.\u001b[0m\u001b[32m.\u001b[0m\u001b[32m                                                 [ 78%]\u001b[0m\n",
            "tests/test_mm_op/test_mm_aux.py \u001b[32m.\u001b[0m\u001b[32m.\u001b[0m\u001b[32m                                                           [ 79%]\u001b[0m\n",
            "tests/test_mm_op/test_op_ABC.py \u001b[32m.\u001b[0m\u001b[32m                                                            [ 79%]\u001b[0m\n",
            "tests/test_mm_op/test_prep_pi_64.py \u001b[32m.\u001b[0m\u001b[32m                                                        [ 80%]\u001b[0m\n",
            "tests/test_mm_op/test_prep_xy.py \u001b[32m.\u001b[0m\u001b[32m                                                           [ 80%]\u001b[0m\n",
            "tests/test_mm_op/test_prepare_op_ABC.py \u001b[32m.\u001b[0m\u001b[32m                                                    [ 81%]\u001b[0m\n",
            "tests/test_mm_op/test_scalprod.py \u001b[32m.\u001b[0m\u001b[32m                                                          [ 81%]\u001b[0m\n",
            "tests/test_mm_op/test_table_xi.py \u001b[32m.\u001b[0m\u001b[32m                                                          [ 82%]\u001b[0m\n",
            "tests/test_mmgroup/test_compress.py \u001b[32m.\u001b[0m\u001b[32m                                                        [ 82%]\u001b[0m\n",
            "tests/test_mmgroup/test_mul_MM.py \u001b[32m.\u001b[0m\u001b[32m                                                          [ 83%]\u001b[0m\n",
            "tests/test_mmgroup/test_reduce.py \u001b[32m.\u001b[0m\u001b[32m.\u001b[0m\u001b[32m.\u001b[0m\u001b[32m.\u001b[0m\u001b[32m.\u001b[0m\u001b[32m.\u001b[0m\u001b[32m                                                     [ 86%]\u001b[0m\n",
            "tests/test_mmgroup/test_shorten.py \u001b[32m.\u001b[0m\u001b[32m.\u001b[0m\u001b[32m                                                        [ 87%]\u001b[0m\n",
            "tests/test_orders/test_in_gx0.py \u001b[32m.\u001b[0m\u001b[32m                                                           [ 87%]\u001b[0m\n",
            "tests/test_orders/test_order.py \u001b[32m.\u001b[0m\u001b[32m.\u001b[0m\u001b[32m.\u001b[0m\u001b[32m                                                          [ 88%]\u001b[0m\n",
            "tests/test_orders/test_order_vector.py \u001b[32m.\u001b[0m\u001b[32m                                                     [ 89%]\u001b[0m\n",
            "tests/test_orders/test_watermark.py \u001b[32m.\u001b[0m\u001b[32m                                                        [ 89%]\u001b[0m\n",
            "tests/test_ploop/test_autpl.py \u001b[32m.\u001b[0m\u001b[32m.\u001b[0m\u001b[32m.\u001b[0m\u001b[32m.\u001b[0m\u001b[32m.\u001b[0m\u001b[32m                                                         [ 92%]\u001b[0m\n",
            "tests/test_ploop/test_group.py \u001b[32m.\u001b[0m\u001b[32m.\u001b[0m\u001b[32m.\u001b[0m\u001b[32m                                                           [ 93%]\u001b[0m\n",
            "tests/test_ploop/test_ploop.py \u001b[32m.\u001b[0m\u001b[32m.\u001b[0m\u001b[32m.\u001b[0m\u001b[32m.\u001b[0m\u001b[32m.\u001b[0m\u001b[32m                                                         [ 96%]\u001b[0m\n",
            "tests/test_ploop/test_space.py \u001b[32m.\u001b[0m\u001b[32m.\u001b[0m\u001b[32m.\u001b[0m\u001b[32m.\u001b[0m\u001b[32m                                                          [ 98%]\u001b[0m\n",
            "tests/test_space/test_op_on_leech.py \u001b[32m.\u001b[0m\u001b[32m                                                       [ 98%]\u001b[0m\n",
            "tests/test_space/test_op_xy.py \u001b[32m.\u001b[0m\u001b[32m                                                             [ 99%]\u001b[0m\n",
            "tests/test_space/test_sparse_mm.py \u001b[32m.\u001b[0m\u001b[32m.\u001b[0m\u001b[32m                                                        [100%]\u001b[0m\n",
            "\n",
            "\u001b[32m========================== \u001b[32m\u001b[1m209 passed\u001b[0m, \u001b[33m22 deselected\u001b[0m\u001b[32m in 137.33s (0:02:17)\u001b[0m\u001b[32m ==========================\u001b[0m\n"
          ]
        }
      ],
      "source": [
        "!pip install mmgroup\n",
        "!pip install pytest\n",
        "!python -m pytest --pyargs mmgroup -m \"not slow\""
      ]
    }
  ]
}